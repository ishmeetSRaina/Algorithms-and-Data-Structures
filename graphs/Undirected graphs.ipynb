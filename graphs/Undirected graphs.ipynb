{
 "cells": [
  {
   "cell_type": "code",
   "execution_count": 90,
   "metadata": {
    "collapsed": true
   },
   "outputs": [],
   "source": [
    "import networkx as nx\n",
    "import matplotlib.pyplot as plt\n",
    "import itertools"
   ]
  },
  {
   "cell_type": "markdown",
   "metadata": {},
   "source": [
    "### input graph"
   ]
  },
  {
   "cell_type": "code",
   "execution_count": 67,
   "metadata": {
    "collapsed": true
   },
   "outputs": [],
   "source": [
    "# this graph is in an adjacency list format\n",
    "# in python, using a dictionary of lists is an easy and cleaner way\n",
    "sampleGraph = {\"a\":[\"b\",\"c\"],\"b\":[\"a\",\"c\",\"f\",\"g\"],\"c\":[\"a\",\"b\",\"d\",\"e\"],\"d\":[\"c\",\"e\",\"h\"],\\\n",
    "               \"e\":[\"c\",\"d\",\"h\"],\"f\":[\"b\"],\"g\":[\"b\",\"h\"],\"h\":[\"e\",\"d\",\"g\"]}"
   ]
  },
  {
   "cell_type": "code",
   "execution_count": 57,
   "metadata": {
    "collapsed": false
   },
   "outputs": [
    {
     "data": {
      "text/plain": [
       "{'a': ['b', 'c'],\n",
       " 'b': ['a', 'c', 'f', 'g'],\n",
       " 'c': ['a', 'b', 'd', 'e'],\n",
       " 'd': ['c', 'e', 'h'],\n",
       " 'e': ['c', 'd', 'h'],\n",
       " 'f': ['b'],\n",
       " 'g': ['b', 'h'],\n",
       " 'h': ['e', 'd', 'g']}"
      ]
     },
     "execution_count": 57,
     "metadata": {},
     "output_type": "execute_result"
    }
   ],
   "source": [
    "sampleGraph"
   ]
  },
  {
   "cell_type": "markdown",
   "metadata": {},
   "source": [
    "### Helper function to plot a graph:\n"
   ]
  },
  {
   "cell_type": "code",
   "execution_count": null,
   "metadata": {
    "collapsed": true
   },
   "outputs": [],
   "source": [
    "def graphPlot(tree):\n",
    "    \n",
    "    treeGraph = nx.Graph()\n",
    "    \n",
    "    for key in tree.keys():\n",
    "        treeGraph.add_node(key)\n",
    "        for child in tree[key]:\n",
    "            treeGraph.add_edge(key,child)\n",
    "    \n",
    "    nx.draw_spring(treeGraph,with_labels=True)\n",
    "    plt.show()\n",
    "        "
   ]
  },
  {
   "cell_type": "markdown",
   "metadata": {},
   "source": [
    "#### drawing the input graph"
   ]
  },
  {
   "cell_type": "code",
   "execution_count": 58,
   "metadata": {
    "collapsed": false
   },
   "outputs": [
    {
     "data": {
      "image/png": "[encoded data removed]",
      "text/plain": [
       "<matplotlib.figure.Figure at 0x7f18e0eb3a90>"
      ]
     },
     "metadata": {},
     "output_type": "display_data"
    }
   ],
   "source": [
    "graphPlot(sampleGraph)"
   ]
  },
  {
   "cell_type": "markdown",
   "metadata": {},
   "source": [
    "# <span style=\"color:green\">Graph Traversal</span>"
   ]
  },
  {
   "cell_type": "markdown",
   "metadata": {},
   "source": [
    "## <span style=\"color:blue\">Breadth First search : </span>"
   ]
  },
  {
   "cell_type": "markdown",
   "metadata": {},
   "source": [
    "#### helper function"
   ]
  },
  {
   "cell_type": "code",
   "execution_count": 19,
   "metadata": {
    "collapsed": true
   },
   "outputs": [],
   "source": [
    "def BFS(root,Graph):\n",
    "    Tree = {}\n",
    "    Discovered = {nodes : False for nodes in Graph.keys()}\n",
    "    Discovered[root] = True\n",
    "    Layers = {}\n",
    "    Layers[0] = [root]\n",
    "    i = 0\n",
    "    while len(Layers[i]) != 0 :\n",
    "        Layers[i+1] = []\n",
    "        for node in Layers[i]:\n",
    "            Tree[node] = []\n",
    "            for child in Graph[node]:\n",
    "                if Discovered[child]==False:\n",
    "                    Tree[node].append(child)\n",
    "                    Layers[i+1].append(child)\n",
    "                    Discovered[child]=True\n",
    "        i=i+1\n",
    "    return Tree,Layers"
   ]
  },
  {
   "cell_type": "markdown",
   "metadata": {},
   "source": [
    "#### creating a BFS graph\n"
   ]
  },
  {
   "cell_type": "code",
   "execution_count": 66,
   "metadata": {
    "collapsed": true
   },
   "outputs": [],
   "source": [
    "root = \"a\"  # creating the root on \"a\"\n",
    "bfsTree,Layers = BFS(root,sampleGraph)"
   ]
  },
  {
   "cell_type": "code",
   "execution_count": 62,
   "metadata": {
    "collapsed": false
   },
   "outputs": [
    {
     "data": {
      "text/plain": [
       "{'a': ['b', 'c'],\n",
       " 'b': ['f', 'g'],\n",
       " 'c': ['d', 'e'],\n",
       " 'd': [],\n",
       " 'e': [],\n",
       " 'f': [],\n",
       " 'g': ['h'],\n",
       " 'h': []}"
      ]
     },
     "execution_count": 62,
     "metadata": {},
     "output_type": "execute_result"
    }
   ],
   "source": [
    "bfsTree"
   ]
  },
  {
   "cell_type": "code",
   "execution_count": 63,
   "metadata": {
    "collapsed": false
   },
   "outputs": [
    {
     "data": {
      "text/plain": [
       "{0: ['a'], 1: ['b', 'c'], 2: ['f', 'g', 'd', 'e'], 3: ['h'], 4: []}"
      ]
     },
     "execution_count": 63,
     "metadata": {},
     "output_type": "execute_result"
    }
   ],
   "source": [
    "Layers"
   ]
  },
  {
   "cell_type": "code",
   "execution_count": 64,
   "metadata": {
    "collapsed": false
   },
   "outputs": [
    {
     "data": {
      "image/png": "[encoded data removed]",
      "text/plain": [
       "<matplotlib.figure.Figure at 0x7f18e0d70860>"
      ]
     },
     "metadata": {},
     "output_type": "display_data"
    }
   ],
   "source": [
    "graphPlot(bfsTree)"
   ]
  },
  {
   "cell_type": "markdown",
   "metadata": {},
   "source": [
    "## <span style=\"color:blue\">Depth First Search - by recursion </span>"
   ]
  },
  {
   "cell_type": "markdown",
   "metadata": {},
   "source": [
    "#### helper function"
   ]
  },
  {
   "cell_type": "code",
   "execution_count": 33,
   "metadata": {
    "collapsed": true
   },
   "outputs": [],
   "source": [
    "def DFS(u,discovered,Tree,Graph):\n",
    "    discovered[u]= True\n",
    "    Tree[u] =[]\n",
    "    for node in Graph[u]:\n",
    "        if discovered[node] == False :\n",
    "            Tree[u].append(node)\n",
    "            DFS(node,discovered,Tree,Graph)\n",
    "    "
   ]
  },
  {
   "cell_type": "code",
   "execution_count": 36,
   "metadata": {
    "collapsed": true
   },
   "outputs": [],
   "source": [
    "def DFSWrapper(root,Graph):\n",
    "    Tree = {}\n",
    "    Discovered = {key:False for key in Graph.keys()}\n",
    "    \n",
    "    DFS(root,Discovered,Tree,Graph)\n",
    "    return Tree\n",
    "    \n",
    "    \n",
    "    "
   ]
  },
  {
   "cell_type": "markdown",
   "metadata": {},
   "source": [
    "#### creating a DFS graph\n"
   ]
  },
  {
   "cell_type": "code",
   "execution_count": 41,
   "metadata": {
    "collapsed": false
   },
   "outputs": [],
   "source": [
    "root =\"a\" # creating the root of the graph at \"a\" node\n",
    "\n",
    "dfsTree = DFSWrapper(root,sampleGraph)"
   ]
  },
  {
   "cell_type": "code",
   "execution_count": 42,
   "metadata": {
    "collapsed": false
   },
   "outputs": [
    {
     "data": {
      "text/plain": [
       "{'a': ['b'],\n",
       " 'b': ['c', 'f'],\n",
       " 'c': ['d'],\n",
       " 'd': ['e'],\n",
       " 'e': ['h'],\n",
       " 'f': [],\n",
       " 'g': [],\n",
       " 'h': ['g']}"
      ]
     },
     "execution_count": 42,
     "metadata": {},
     "output_type": "execute_result"
    }
   ],
   "source": [
    "dfsTree"
   ]
  },
  {
   "cell_type": "code",
   "execution_count": 65,
   "metadata": {
    "collapsed": false
   },
   "outputs": [
    {
     "data": {
      "image/png": "[encoded data removed]",
      "text/plain": [
       "<matplotlib.figure.Figure at 0x7f18e0cdf2b0>"
      ]
     },
     "metadata": {},
     "output_type": "display_data"
    }
   ],
   "source": [
    "graphPlot(dfsTree)"
   ]
  },
  {
   "cell_type": "markdown",
   "metadata": {},
   "source": [
    "# <span style=\"color:green\">Problems in Graphs</span>"
   ]
  },
  {
   "cell_type": "markdown",
   "metadata": {},
   "source": [
    "## <span style=\"color:blue\">Checking for Bipartite graph:</span>"
   ]
  },
  {
   "cell_type": "markdown",
   "metadata": {},
   "source": [
    "Bipartite graph is a kind of graph which can be split into two sets X and Y so that every edge of the graph has one end in X and one end in Y"
   ]
  },
  {
   "cell_type": "markdown",
   "metadata": {},
   "source": [
    "**How to check?**   \n",
    "* create a BFS tree\n",
    "* Let us assume the root lies in the set X\n",
    "* then all the nodes in the next layer must lie in the set Y\n",
    "* then the next layer nodes must lie in the set X\n",
    "* and so on\n",
    "\n",
    "* thus to check for bipartite graph\n",
    "    * Check for edges that are present in the graph between two nodes lying in the same layer of a BFS tree"
   ]
  },
  {
   "cell_type": "markdown",
   "metadata": {},
   "source": [
    "#### Helper function "
   ]
  },
  {
   "cell_type": "code",
   "execution_count": 88,
   "metadata": {
    "collapsed": true
   },
   "outputs": [],
   "source": [
    "def checkBipartite(graph):\n",
    "    graphEdges = []\n",
    "    for nodes in graph.keys():\n",
    "        graphEdges.extend([(nodes,child) for child in graph[nodes]])\n",
    "    \n",
    "    # creating a BFS tree and finding nodes in the same layer\n",
    "    # selecting any random root for the tree, in this we choose \"a\"\n",
    "    root = \"a\"\n",
    "    bfsTree,bfsLayers = BFS(root,graph)\n",
    "    \n",
    "    # creating edges of all nodes in the same layer\n",
    "    layerEdges = []\n",
    "    for layer in bfsLayers.keys():\n",
    "        thisLayer = bfsLayers[layer]\n",
    "        thisLayer = list(itertools.combinations(thisLayer,2))\n",
    "        layerEdges.extend(thisLayer)\n",
    "    \n",
    "    # if any of the edges from the same layer edges is found in the actual graph edges,\n",
    "    # then it is not a bipartite graph\n",
    "    \n",
    "    for edge in layerEdges:\n",
    "        if edge in graphEdges:\n",
    "            return False\n",
    "    return True\n",
    "    "
   ]
  },
  {
   "cell_type": "markdown",
   "metadata": {},
   "source": [
    "#### calling the function for checking bipartite graph"
   ]
  },
  {
   "cell_type": "code",
   "execution_count": 89,
   "metadata": {
    "collapsed": false
   },
   "outputs": [
    {
     "data": {
      "text/plain": [
       "False"
      ]
     },
     "execution_count": 89,
     "metadata": {},
     "output_type": "execute_result"
    }
   ],
   "source": [
    "checkBipartite(sampleGraph)"
   ]
  },
  {
   "cell_type": "code",
   "execution_count": null,
   "metadata": {
    "collapsed": true
   },
   "outputs": [],
   "source": []
  }
 ],
 "metadata": {
  "anaconda-cloud": {},
  "kernelspec": {
   "display_name": "Python [default]",
   "language": "python",
   "name": "python3"
  },
  "language_info": {
   "codemirror_mode": {
    "name": "ipython",
    "version": 3
   },
   "file_extension": ".py",
   "mimetype": "text/x-python",
   "name": "python",
   "nbconvert_exporter": "python",
   "pygments_lexer": "ipython3",
   "version": "3.5.2"
  }
 },
 "nbformat": 4,
 "nbformat_minor": 1
}
